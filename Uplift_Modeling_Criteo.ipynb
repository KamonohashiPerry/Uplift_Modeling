{
 "cells": [
  {
   "cell_type": "code",
   "execution_count": 1,
   "metadata": {},
   "outputs": [],
   "source": [
    "%matplotlib inline\n",
    "\n",
    "import pandas as pd\n",
    "import matplotlib.pyplot as plt\n",
    "from operator import  itemgetter\n",
    "plt.style.use(\"ggplot\")\n",
    "\n",
    "from sklearn.model_selection import  train_test_split\n",
    "from sklearn.linear_model import LogisticRegression"
   ]
  },
  {
   "cell_type": "code",
   "execution_count": 2,
   "metadata": {},
   "outputs": [
    {
     "data": {
      "text/html": [
       "<div>\n",
       "<style scoped>\n",
       "    .dataframe tbody tr th:only-of-type {\n",
       "        vertical-align: middle;\n",
       "    }\n",
       "\n",
       "    .dataframe tbody tr th {\n",
       "        vertical-align: top;\n",
       "    }\n",
       "\n",
       "    .dataframe thead th {\n",
       "        text-align: right;\n",
       "    }\n",
       "</style>\n",
       "<table border=\"1\" class=\"dataframe\">\n",
       "  <thead>\n",
       "    <tr style=\"text-align: right;\">\n",
       "      <th></th>\n",
       "      <th>f0</th>\n",
       "      <th>f1</th>\n",
       "      <th>f2</th>\n",
       "      <th>f3</th>\n",
       "      <th>f4</th>\n",
       "      <th>f5</th>\n",
       "      <th>f6</th>\n",
       "      <th>f7</th>\n",
       "      <th>f8</th>\n",
       "      <th>f9</th>\n",
       "      <th>f10</th>\n",
       "      <th>f11</th>\n",
       "      <th>treatment</th>\n",
       "      <th>conversion</th>\n",
       "      <th>visit</th>\n",
       "      <th>exposure</th>\n",
       "    </tr>\n",
       "  </thead>\n",
       "  <tbody>\n",
       "    <tr>\n",
       "      <th>0</th>\n",
       "      <td>1.991981</td>\n",
       "      <td>3.263641</td>\n",
       "      <td>9.241052</td>\n",
       "      <td>3.735871</td>\n",
       "      <td>3.506733</td>\n",
       "      <td>10.161281</td>\n",
       "      <td>2.981721</td>\n",
       "      <td>-0.166689</td>\n",
       "      <td>-0.584392</td>\n",
       "      <td>9.850093</td>\n",
       "      <td>-1.8609</td>\n",
       "      <td>4.157648</td>\n",
       "      <td>1</td>\n",
       "      <td>0</td>\n",
       "      <td>0</td>\n",
       "      <td>0</td>\n",
       "    </tr>\n",
       "    <tr>\n",
       "      <th>1</th>\n",
       "      <td>1.991981</td>\n",
       "      <td>3.263641</td>\n",
       "      <td>9.274430</td>\n",
       "      <td>3.735871</td>\n",
       "      <td>3.506733</td>\n",
       "      <td>10.161281</td>\n",
       "      <td>2.981721</td>\n",
       "      <td>-0.166689</td>\n",
       "      <td>-0.584392</td>\n",
       "      <td>9.850093</td>\n",
       "      <td>-1.8609</td>\n",
       "      <td>4.157648</td>\n",
       "      <td>1</td>\n",
       "      <td>0</td>\n",
       "      <td>0</td>\n",
       "      <td>0</td>\n",
       "    </tr>\n",
       "    <tr>\n",
       "      <th>2</th>\n",
       "      <td>1.991981</td>\n",
       "      <td>3.263641</td>\n",
       "      <td>9.226241</td>\n",
       "      <td>3.735871</td>\n",
       "      <td>3.506733</td>\n",
       "      <td>10.161281</td>\n",
       "      <td>2.981721</td>\n",
       "      <td>-0.166689</td>\n",
       "      <td>-0.584392</td>\n",
       "      <td>9.850093</td>\n",
       "      <td>-1.8609</td>\n",
       "      <td>4.157648</td>\n",
       "      <td>1</td>\n",
       "      <td>0</td>\n",
       "      <td>0</td>\n",
       "      <td>0</td>\n",
       "    </tr>\n",
       "    <tr>\n",
       "      <th>3</th>\n",
       "      <td>1.991981</td>\n",
       "      <td>3.263641</td>\n",
       "      <td>9.274572</td>\n",
       "      <td>3.735871</td>\n",
       "      <td>3.506733</td>\n",
       "      <td>10.161281</td>\n",
       "      <td>2.981721</td>\n",
       "      <td>-0.166689</td>\n",
       "      <td>-0.584392</td>\n",
       "      <td>9.850093</td>\n",
       "      <td>-1.8609</td>\n",
       "      <td>4.157648</td>\n",
       "      <td>1</td>\n",
       "      <td>0</td>\n",
       "      <td>0</td>\n",
       "      <td>0</td>\n",
       "    </tr>\n",
       "    <tr>\n",
       "      <th>4</th>\n",
       "      <td>1.991981</td>\n",
       "      <td>3.263641</td>\n",
       "      <td>9.332619</td>\n",
       "      <td>3.735871</td>\n",
       "      <td>3.506733</td>\n",
       "      <td>10.161281</td>\n",
       "      <td>2.981721</td>\n",
       "      <td>-0.166689</td>\n",
       "      <td>-0.584392</td>\n",
       "      <td>9.850093</td>\n",
       "      <td>-1.8609</td>\n",
       "      <td>4.157648</td>\n",
       "      <td>0</td>\n",
       "      <td>0</td>\n",
       "      <td>0</td>\n",
       "      <td>0</td>\n",
       "    </tr>\n",
       "    <tr>\n",
       "      <th>5</th>\n",
       "      <td>1.991981</td>\n",
       "      <td>3.263641</td>\n",
       "      <td>9.319308</td>\n",
       "      <td>3.735871</td>\n",
       "      <td>3.506733</td>\n",
       "      <td>10.161281</td>\n",
       "      <td>2.981721</td>\n",
       "      <td>-0.166689</td>\n",
       "      <td>-0.584392</td>\n",
       "      <td>9.850093</td>\n",
       "      <td>-1.8609</td>\n",
       "      <td>4.157648</td>\n",
       "      <td>1</td>\n",
       "      <td>0</td>\n",
       "      <td>0</td>\n",
       "      <td>0</td>\n",
       "    </tr>\n",
       "    <tr>\n",
       "      <th>6</th>\n",
       "      <td>1.991981</td>\n",
       "      <td>3.263641</td>\n",
       "      <td>9.274632</td>\n",
       "      <td>3.735871</td>\n",
       "      <td>3.506733</td>\n",
       "      <td>10.161281</td>\n",
       "      <td>2.981721</td>\n",
       "      <td>-0.166689</td>\n",
       "      <td>-0.584392</td>\n",
       "      <td>9.850093</td>\n",
       "      <td>-1.8609</td>\n",
       "      <td>4.157648</td>\n",
       "      <td>0</td>\n",
       "      <td>0</td>\n",
       "      <td>0</td>\n",
       "      <td>0</td>\n",
       "    </tr>\n",
       "    <tr>\n",
       "      <th>7</th>\n",
       "      <td>1.991981</td>\n",
       "      <td>3.263641</td>\n",
       "      <td>9.149639</td>\n",
       "      <td>3.735871</td>\n",
       "      <td>3.506733</td>\n",
       "      <td>10.161281</td>\n",
       "      <td>2.981721</td>\n",
       "      <td>-0.166689</td>\n",
       "      <td>-0.584392</td>\n",
       "      <td>9.850093</td>\n",
       "      <td>-1.8609</td>\n",
       "      <td>4.157648</td>\n",
       "      <td>1</td>\n",
       "      <td>0</td>\n",
       "      <td>0</td>\n",
       "      <td>0</td>\n",
       "    </tr>\n",
       "    <tr>\n",
       "      <th>8</th>\n",
       "      <td>1.991981</td>\n",
       "      <td>3.263641</td>\n",
       "      <td>9.226277</td>\n",
       "      <td>3.735871</td>\n",
       "      <td>3.506733</td>\n",
       "      <td>10.161281</td>\n",
       "      <td>2.981721</td>\n",
       "      <td>-0.166689</td>\n",
       "      <td>-0.584392</td>\n",
       "      <td>9.850093</td>\n",
       "      <td>-1.8609</td>\n",
       "      <td>4.157648</td>\n",
       "      <td>0</td>\n",
       "      <td>0</td>\n",
       "      <td>0</td>\n",
       "      <td>0</td>\n",
       "    </tr>\n",
       "    <tr>\n",
       "      <th>9</th>\n",
       "      <td>1.991981</td>\n",
       "      <td>3.263641</td>\n",
       "      <td>8.995635</td>\n",
       "      <td>3.735871</td>\n",
       "      <td>3.506733</td>\n",
       "      <td>10.161281</td>\n",
       "      <td>2.981721</td>\n",
       "      <td>-0.166689</td>\n",
       "      <td>-0.584392</td>\n",
       "      <td>9.850093</td>\n",
       "      <td>-1.8609</td>\n",
       "      <td>4.157648</td>\n",
       "      <td>1</td>\n",
       "      <td>0</td>\n",
       "      <td>0</td>\n",
       "      <td>0</td>\n",
       "    </tr>\n",
       "  </tbody>\n",
       "</table>\n",
       "</div>"
      ],
      "text/plain": [
       "         f0        f1        f2        f3        f4         f5        f6  \\\n",
       "0  1.991981  3.263641  9.241052  3.735871  3.506733  10.161281  2.981721   \n",
       "1  1.991981  3.263641  9.274430  3.735871  3.506733  10.161281  2.981721   \n",
       "2  1.991981  3.263641  9.226241  3.735871  3.506733  10.161281  2.981721   \n",
       "3  1.991981  3.263641  9.274572  3.735871  3.506733  10.161281  2.981721   \n",
       "4  1.991981  3.263641  9.332619  3.735871  3.506733  10.161281  2.981721   \n",
       "5  1.991981  3.263641  9.319308  3.735871  3.506733  10.161281  2.981721   \n",
       "6  1.991981  3.263641  9.274632  3.735871  3.506733  10.161281  2.981721   \n",
       "7  1.991981  3.263641  9.149639  3.735871  3.506733  10.161281  2.981721   \n",
       "8  1.991981  3.263641  9.226277  3.735871  3.506733  10.161281  2.981721   \n",
       "9  1.991981  3.263641  8.995635  3.735871  3.506733  10.161281  2.981721   \n",
       "\n",
       "         f7        f8        f9     f10       f11  treatment  conversion  \\\n",
       "0 -0.166689 -0.584392  9.850093 -1.8609  4.157648          1           0   \n",
       "1 -0.166689 -0.584392  9.850093 -1.8609  4.157648          1           0   \n",
       "2 -0.166689 -0.584392  9.850093 -1.8609  4.157648          1           0   \n",
       "3 -0.166689 -0.584392  9.850093 -1.8609  4.157648          1           0   \n",
       "4 -0.166689 -0.584392  9.850093 -1.8609  4.157648          0           0   \n",
       "5 -0.166689 -0.584392  9.850093 -1.8609  4.157648          1           0   \n",
       "6 -0.166689 -0.584392  9.850093 -1.8609  4.157648          0           0   \n",
       "7 -0.166689 -0.584392  9.850093 -1.8609  4.157648          1           0   \n",
       "8 -0.166689 -0.584392  9.850093 -1.8609  4.157648          0           0   \n",
       "9 -0.166689 -0.584392  9.850093 -1.8609  4.157648          1           0   \n",
       "\n",
       "   visit  exposure  \n",
       "0      0         0  \n",
       "1      0         0  \n",
       "2      0         0  \n",
       "3      0         0  \n",
       "4      0         0  \n",
       "5      0         0  \n",
       "6      0         0  \n",
       "7      0         0  \n",
       "8      0         0  \n",
       "9      0         0  "
      ]
     },
     "execution_count": 2,
     "metadata": {},
     "output_type": "execute_result"
    }
   ],
   "source": [
    "# https://ailab.criteo.com/criteo-uplift-prediction-dataset/\n",
    "source_df = pd.read_csv(\"criteo-uplift.csv.gz\")\n",
    "source_df.head(10)"
   ]
  },
  {
   "cell_type": "code",
   "execution_count": 28,
   "metadata": {},
   "outputs": [
    {
     "data": {
      "text/html": [
       "<div>\n",
       "<style scoped>\n",
       "    .dataframe tbody tr th:only-of-type {\n",
       "        vertical-align: middle;\n",
       "    }\n",
       "\n",
       "    .dataframe tbody tr th {\n",
       "        vertical-align: top;\n",
       "    }\n",
       "\n",
       "    .dataframe thead th {\n",
       "        text-align: right;\n",
       "    }\n",
       "</style>\n",
       "<table border=\"1\" class=\"dataframe\">\n",
       "  <thead>\n",
       "    <tr style=\"text-align: right;\">\n",
       "      <th></th>\n",
       "      <th>f0</th>\n",
       "      <th>f1</th>\n",
       "      <th>f2</th>\n",
       "      <th>f3</th>\n",
       "      <th>f4</th>\n",
       "      <th>f5</th>\n",
       "      <th>f6</th>\n",
       "      <th>f7</th>\n",
       "      <th>f8</th>\n",
       "      <th>f9</th>\n",
       "      <th>f10</th>\n",
       "      <th>f11</th>\n",
       "      <th>treatment</th>\n",
       "      <th>conversion</th>\n",
       "      <th>visit</th>\n",
       "      <th>exposure</th>\n",
       "    </tr>\n",
       "  </thead>\n",
       "  <tbody>\n",
       "    <tr>\n",
       "      <th>count</th>\n",
       "      <td>2.530948e+07</td>\n",
       "      <td>2.530948e+07</td>\n",
       "      <td>2.530948e+07</td>\n",
       "      <td>2.530948e+07</td>\n",
       "      <td>2.530948e+07</td>\n",
       "      <td>2.530948e+07</td>\n",
       "      <td>2.530948e+07</td>\n",
       "      <td>2.530948e+07</td>\n",
       "      <td>2.530948e+07</td>\n",
       "      <td>2.530948e+07</td>\n",
       "      <td>2.530948e+07</td>\n",
       "      <td>2.530948e+07</td>\n",
       "      <td>2.530948e+07</td>\n",
       "      <td>2.530948e+07</td>\n",
       "      <td>2.530948e+07</td>\n",
       "      <td>2.530948e+07</td>\n",
       "    </tr>\n",
       "    <tr>\n",
       "      <th>mean</th>\n",
       "      <td>6.193441e-01</td>\n",
       "      <td>3.265647e+00</td>\n",
       "      <td>8.506897e+00</td>\n",
       "      <td>3.656395e+00</td>\n",
       "      <td>3.522577e+00</td>\n",
       "      <td>1.020163e+01</td>\n",
       "      <td>1.755059e+00</td>\n",
       "      <td>-2.934498e-01</td>\n",
       "      <td>-2.049940e+00</td>\n",
       "      <td>1.067117e+01</td>\n",
       "      <td>-2.092319e+00</td>\n",
       "      <td>4.159096e+00</td>\n",
       "      <td>8.458817e-01</td>\n",
       "      <td>2.294041e-03</td>\n",
       "      <td>4.132159e-02</td>\n",
       "      <td>3.493936e-02</td>\n",
       "    </tr>\n",
       "    <tr>\n",
       "      <th>std</th>\n",
       "      <td>1.534830e+00</td>\n",
       "      <td>2.293420e-02</td>\n",
       "      <td>3.589551e-01</td>\n",
       "      <td>2.415026e-01</td>\n",
       "      <td>1.090087e-01</td>\n",
       "      <td>2.322288e-01</td>\n",
       "      <td>1.673734e+00</td>\n",
       "      <td>6.648472e-01</td>\n",
       "      <td>5.466541e+00</td>\n",
       "      <td>2.294696e+00</td>\n",
       "      <td>1.382599e+00</td>\n",
       "      <td>1.700285e-02</td>\n",
       "      <td>3.610621e-01</td>\n",
       "      <td>4.784118e-02</td>\n",
       "      <td>1.990330e-01</td>\n",
       "      <td>1.836262e-01</td>\n",
       "    </tr>\n",
       "    <tr>\n",
       "      <th>min</th>\n",
       "      <td>-1.946282e+00</td>\n",
       "      <td>3.263641e+00</td>\n",
       "      <td>8.272483e+00</td>\n",
       "      <td>1.119173e+00</td>\n",
       "      <td>3.506733e+00</td>\n",
       "      <td>1.016128e+01</td>\n",
       "      <td>-8.958192e+00</td>\n",
       "      <td>-4.724865e+00</td>\n",
       "      <td>-3.350365e+01</td>\n",
       "      <td>9.850093e+00</td>\n",
       "      <td>-1.303824e+01</td>\n",
       "      <td>4.157648e+00</td>\n",
       "      <td>0.000000e+00</td>\n",
       "      <td>0.000000e+00</td>\n",
       "      <td>0.000000e+00</td>\n",
       "      <td>0.000000e+00</td>\n",
       "    </tr>\n",
       "    <tr>\n",
       "      <th>25%</th>\n",
       "      <td>-1.005456e+00</td>\n",
       "      <td>3.263641e+00</td>\n",
       "      <td>8.272483e+00</td>\n",
       "      <td>3.735871e+00</td>\n",
       "      <td>3.506733e+00</td>\n",
       "      <td>1.016128e+01</td>\n",
       "      <td>9.451627e-01</td>\n",
       "      <td>-1.666894e-01</td>\n",
       "      <td>-2.716012e+00</td>\n",
       "      <td>9.850093e+00</td>\n",
       "      <td>-1.860900e+00</td>\n",
       "      <td>4.157648e+00</td>\n",
       "      <td>1.000000e+00</td>\n",
       "      <td>0.000000e+00</td>\n",
       "      <td>0.000000e+00</td>\n",
       "      <td>0.000000e+00</td>\n",
       "    </tr>\n",
       "    <tr>\n",
       "      <th>50%</th>\n",
       "      <td>1.631905e+00</td>\n",
       "      <td>3.263641e+00</td>\n",
       "      <td>8.272483e+00</td>\n",
       "      <td>3.735871e+00</td>\n",
       "      <td>3.506733e+00</td>\n",
       "      <td>1.016128e+01</td>\n",
       "      <td>2.386066e+00</td>\n",
       "      <td>-1.666894e-01</td>\n",
       "      <td>1.107571e+00</td>\n",
       "      <td>9.850093e+00</td>\n",
       "      <td>-1.860900e+00</td>\n",
       "      <td>4.157648e+00</td>\n",
       "      <td>1.000000e+00</td>\n",
       "      <td>0.000000e+00</td>\n",
       "      <td>0.000000e+00</td>\n",
       "      <td>0.000000e+00</td>\n",
       "    </tr>\n",
       "    <tr>\n",
       "      <th>75%</th>\n",
       "      <td>1.991981e+00</td>\n",
       "      <td>3.263641e+00</td>\n",
       "      <td>8.756008e+00</td>\n",
       "      <td>3.735871e+00</td>\n",
       "      <td>3.506733e+00</td>\n",
       "      <td>1.016128e+01</td>\n",
       "      <td>2.981721e+00</td>\n",
       "      <td>-1.666894e-01</td>\n",
       "      <td>1.107571e+00</td>\n",
       "      <td>9.850093e+00</td>\n",
       "      <td>-1.860900e+00</td>\n",
       "      <td>4.157648e+00</td>\n",
       "      <td>1.000000e+00</td>\n",
       "      <td>0.000000e+00</td>\n",
       "      <td>0.000000e+00</td>\n",
       "      <td>0.000000e+00</td>\n",
       "    </tr>\n",
       "    <tr>\n",
       "      <th>max</th>\n",
       "      <td>1.991981e+00</td>\n",
       "      <td>4.827224e+00</td>\n",
       "      <td>9.337056e+00</td>\n",
       "      <td>3.735871e+00</td>\n",
       "      <td>7.797549e+00</td>\n",
       "      <td>1.846414e+01</td>\n",
       "      <td>2.981721e+00</td>\n",
       "      <td>-1.666894e-01</td>\n",
       "      <td>1.107571e+00</td>\n",
       "      <td>3.198858e+01</td>\n",
       "      <td>-1.860900e+00</td>\n",
       "      <td>5.293435e+00</td>\n",
       "      <td>1.000000e+00</td>\n",
       "      <td>1.000000e+00</td>\n",
       "      <td>1.000000e+00</td>\n",
       "      <td>1.000000e+00</td>\n",
       "    </tr>\n",
       "  </tbody>\n",
       "</table>\n",
       "</div>"
      ],
      "text/plain": [
       "                 f0            f1            f2            f3            f4  \\\n",
       "count  2.530948e+07  2.530948e+07  2.530948e+07  2.530948e+07  2.530948e+07   \n",
       "mean   6.193441e-01  3.265647e+00  8.506897e+00  3.656395e+00  3.522577e+00   \n",
       "std    1.534830e+00  2.293420e-02  3.589551e-01  2.415026e-01  1.090087e-01   \n",
       "min   -1.946282e+00  3.263641e+00  8.272483e+00  1.119173e+00  3.506733e+00   \n",
       "25%   -1.005456e+00  3.263641e+00  8.272483e+00  3.735871e+00  3.506733e+00   \n",
       "50%    1.631905e+00  3.263641e+00  8.272483e+00  3.735871e+00  3.506733e+00   \n",
       "75%    1.991981e+00  3.263641e+00  8.756008e+00  3.735871e+00  3.506733e+00   \n",
       "max    1.991981e+00  4.827224e+00  9.337056e+00  3.735871e+00  7.797549e+00   \n",
       "\n",
       "                 f5            f6            f7            f8            f9  \\\n",
       "count  2.530948e+07  2.530948e+07  2.530948e+07  2.530948e+07  2.530948e+07   \n",
       "mean   1.020163e+01  1.755059e+00 -2.934498e-01 -2.049940e+00  1.067117e+01   \n",
       "std    2.322288e-01  1.673734e+00  6.648472e-01  5.466541e+00  2.294696e+00   \n",
       "min    1.016128e+01 -8.958192e+00 -4.724865e+00 -3.350365e+01  9.850093e+00   \n",
       "25%    1.016128e+01  9.451627e-01 -1.666894e-01 -2.716012e+00  9.850093e+00   \n",
       "50%    1.016128e+01  2.386066e+00 -1.666894e-01  1.107571e+00  9.850093e+00   \n",
       "75%    1.016128e+01  2.981721e+00 -1.666894e-01  1.107571e+00  9.850093e+00   \n",
       "max    1.846414e+01  2.981721e+00 -1.666894e-01  1.107571e+00  3.198858e+01   \n",
       "\n",
       "                f10           f11     treatment    conversion         visit  \\\n",
       "count  2.530948e+07  2.530948e+07  2.530948e+07  2.530948e+07  2.530948e+07   \n",
       "mean  -2.092319e+00  4.159096e+00  8.458817e-01  2.294041e-03  4.132159e-02   \n",
       "std    1.382599e+00  1.700285e-02  3.610621e-01  4.784118e-02  1.990330e-01   \n",
       "min   -1.303824e+01  4.157648e+00  0.000000e+00  0.000000e+00  0.000000e+00   \n",
       "25%   -1.860900e+00  4.157648e+00  1.000000e+00  0.000000e+00  0.000000e+00   \n",
       "50%   -1.860900e+00  4.157648e+00  1.000000e+00  0.000000e+00  0.000000e+00   \n",
       "75%   -1.860900e+00  4.157648e+00  1.000000e+00  0.000000e+00  0.000000e+00   \n",
       "max   -1.860900e+00  5.293435e+00  1.000000e+00  1.000000e+00  1.000000e+00   \n",
       "\n",
       "           exposure  \n",
       "count  2.530948e+07  \n",
       "mean   3.493936e-02  \n",
       "std    1.836262e-01  \n",
       "min    0.000000e+00  \n",
       "25%    0.000000e+00  \n",
       "50%    0.000000e+00  \n",
       "75%    0.000000e+00  \n",
       "max    1.000000e+00  "
      ]
     },
     "execution_count": 28,
     "metadata": {},
     "output_type": "execute_result"
    }
   ],
   "source": [
    "source_df.describe()"
   ]
  },
  {
   "cell_type": "markdown",
   "metadata": {},
   "source": [
    "# EDA"
   ]
  },
  {
   "cell_type": "code",
   "execution_count": 49,
   "metadata": {},
   "outputs": [],
   "source": [
    "import numpy as np\n",
    "import seaborn as sns\n",
    "import matplotlib.pyplot as plt\n",
    "plt.rcParams['figure.figsize'] = [15, 5]"
   ]
  },
  {
   "cell_type": "code",
   "execution_count": 33,
   "metadata": {},
   "outputs": [
    {
     "data": {
      "text/plain": [
       "<matplotlib.axes._subplots.AxesSubplot at 0x1a1ef53c88>"
      ]
     },
     "execution_count": 33,
     "metadata": {},
     "output_type": "execute_result"
    },
    {
     "data": {
      "image/png": "[encoded data removed]",
      "text/plain": [
       "<Figure size 432x288 with 1 Axes>"
      ]
     },
     "metadata": {
      "needs_background": "light"
     },
     "output_type": "display_data"
    }
   ],
   "source": [
    "source_df.boxplot(column=['f0', 'f1', 'f2', 'f3', 'f4', 'f5', 'f6', 'f7', 'f8', 'f9', 'f10', 'f11'])"
   ]
  },
  {
   "cell_type": "code",
   "execution_count": 34,
   "metadata": {},
   "outputs": [
    {
     "data": {
      "text/plain": [
       "(array([ 2990327.,  2496006.,  2161683.,  1695964.,   727439.,   507490.,\n",
       "          545368.,   562566.,   854168., 12768471.]),\n",
       " array([-1.94628211, -1.55245583, -1.15862956, -0.76480329, -0.37097702,\n",
       "         0.02284926,  0.41667553,  0.8105018 ,  1.20432808,  1.59815435,\n",
       "         1.99198062]),\n",
       " <a list of 10 Patch objects>)"
      ]
     },
     "execution_count": 34,
     "metadata": {},
     "output_type": "execute_result"
    },
    {
     "data": {
      "image/png": "[encoded data removed]",
      "text/plain": [
       "<Figure size 432x288 with 1 Axes>"
      ]
     },
     "metadata": {
      "needs_background": "light"
     },
     "output_type": "display_data"
    }
   ],
   "source": [
    "plt.hist(source_df[\"f0\"])"
   ]
  },
  {
   "cell_type": "code",
   "execution_count": 35,
   "metadata": {},
   "outputs": [
    {
     "data": {
      "text/plain": [
       "(array([2.5240788e+07, 3.8131000e+04, 2.0003000e+04, 7.7110000e+03,\n",
       "        1.9190000e+03, 6.7900000e+02, 1.9200000e+02, 4.4000000e+01,\n",
       "        1.4000000e+01, 1.0000000e+00]),\n",
       " array([3.26364064, 3.41999897, 3.57635731, 3.73271564, 3.88907398,\n",
       "        4.04543232, 4.20179065, 4.35814899, 4.51450733, 4.67086566,\n",
       "        4.827224  ]),\n",
       " <a list of 10 Patch objects>)"
      ]
     },
     "execution_count": 35,
     "metadata": {},
     "output_type": "execute_result"
    },
    {
     "data": {
      "image/png": "[encoded data removed]",
      "text/plain": [
       "<Figure size 432x288 with 1 Axes>"
      ]
     },
     "metadata": {
      "needs_background": "light"
     },
     "output_type": "display_data"
    }
   ],
   "source": [
    "plt.hist(source_df[\"f1\"])"
   ]
  },
  {
   "cell_type": "code",
   "execution_count": 36,
   "metadata": {},
   "outputs": [
    {
     "data": {
      "text/plain": [
       "(array([16459974.,   797366.,   634072.,   685546.,   765934.,   924188.,\n",
       "          867753.,  1135327.,  1376101.,  1663221.]),\n",
       " array([8.2724831 , 8.37894038, 8.48539766, 8.59185494, 8.69831223,\n",
       "        8.80476951, 8.91122679, 9.01768407, 9.12414135, 9.23059863,\n",
       "        9.33705592]),\n",
       " <a list of 10 Patch objects>)"
      ]
     },
     "execution_count": 36,
     "metadata": {},
     "output_type": "execute_result"
    },
    {
     "data": {
      "image/png": "[encoded data removed]",
      "text/plain": [
       "<Figure size 432x288 with 1 Axes>"
      ]
     },
     "metadata": {
      "needs_background": "light"
     },
     "output_type": "display_data"
    }
   ],
   "source": [
    "plt.hist(source_df[\"f2\"])"
   ]
  },
  {
   "cell_type": "code",
   "execution_count": 37,
   "metadata": {},
   "outputs": [
    {
     "data": {
      "text/plain": [
       "(array([9.0000000e+00, 1.3400000e+02, 6.0140000e+03, 4.2136000e+04,\n",
       "        1.3040300e+05, 2.6957500e+05, 4.7763200e+05, 7.3266900e+05,\n",
       "        1.1596120e+06, 2.2491298e+07]),\n",
       " array([1.11917327, 1.38084303, 1.6425128 , 1.90418257, 2.16585234,\n",
       "        2.4275221 , 2.68919187, 2.95086164, 3.21253141, 3.47420117,\n",
       "        3.73587094]),\n",
       " <a list of 10 Patch objects>)"
      ]
     },
     "execution_count": 37,
     "metadata": {},
     "output_type": "execute_result"
    },
    {
     "data": {
      "image/png": "[encoded data removed]",
      "text/plain": [
       "<Figure size 432x288 with 1 Axes>"
      ]
     },
     "metadata": {
      "needs_background": "light"
     },
     "output_type": "display_data"
    }
   ],
   "source": [
    "plt.hist(source_df[\"f3\"])"
   ]
  },
  {
   "cell_type": "code",
   "execution_count": 38,
   "metadata": {},
   "outputs": [
    {
     "data": {
      "text/plain": [
       "(array([2.4995996e+07, 2.1610700e+05, 5.7161000e+04, 2.4481000e+04,\n",
       "        1.0497000e+04, 3.6970000e+03, 1.1680000e+03, 2.9700000e+02,\n",
       "        6.6000000e+01, 1.2000000e+01]),\n",
       " array([3.50673313, 3.93581476, 4.36489639, 4.79397802, 5.22305964,\n",
       "        5.65214127, 6.0812229 , 6.51030453, 6.93938616, 7.36846778,\n",
       "        7.79754941]),\n",
       " <a list of 10 Patch objects>)"
      ]
     },
     "execution_count": 38,
     "metadata": {},
     "output_type": "execute_result"
    },
    {
     "data": {
      "image/png": "[encoded data removed]",
      "text/plain": [
       "<Figure size 432x288 with 1 Axes>"
      ]
     },
     "metadata": {
      "needs_background": "light"
     },
     "output_type": "display_data"
    }
   ],
   "source": [
    "plt.hist(source_df[\"f4\"])"
   ]
  },
  {
   "cell_type": "code",
   "execution_count": 39,
   "metadata": {},
   "outputs": [
    {
     "data": {
      "text/plain": [
       "(array([2.4953526e+07, 2.4411500e+05, 7.1598000e+04, 2.8783000e+04,\n",
       "        7.8530000e+03, 2.6980000e+03, 6.8900000e+02, 1.6300000e+02,\n",
       "        5.1000000e+01, 6.0000000e+00]),\n",
       " array([10.16128065, 10.99156695, 11.82185325, 12.65213955, 13.48242585,\n",
       "        14.31271214, 15.14299844, 15.97328474, 16.80357104, 17.63385734,\n",
       "        18.46414364]),\n",
       " <a list of 10 Patch objects>)"
      ]
     },
     "execution_count": 39,
     "metadata": {},
     "output_type": "execute_result"
    },
    {
     "data": {
      "image/png": "[encoded data removed]",
      "text/plain": [
       "<Figure size 432x288 with 1 Axes>"
      ]
     },
     "metadata": {
      "needs_background": "light"
     },
     "output_type": "display_data"
    }
   ],
   "source": [
    "plt.hist(source_df[\"f5\"])"
   ]
  },
  {
   "cell_type": "code",
   "execution_count": 40,
   "metadata": {},
   "outputs": [
    {
     "data": {
      "text/plain": [
       "(array([2.300000e+01, 5.900000e+02, 1.895600e+04, 1.081490e+05,\n",
       "        3.439910e+05, 8.885900e+05, 1.589303e+06, 2.243980e+06,\n",
       "        3.771620e+06, 1.634428e+07]),\n",
       " array([-8.95819158, -7.76420033, -6.57020909, -5.37621784, -4.18222659,\n",
       "        -2.98823535, -1.7942441 , -0.60025285,  0.59373839,  1.78772964,\n",
       "         2.98172089]),\n",
       " <a list of 10 Patch objects>)"
      ]
     },
     "execution_count": 40,
     "metadata": {},
     "output_type": "execute_result"
    },
    {
     "data": {
      "image/png": "[encoded data removed]",
      "text/plain": [
       "<Figure size 432x288 with 1 Axes>"
      ]
     },
     "metadata": {
      "needs_background": "light"
     },
     "output_type": "display_data"
    }
   ],
   "source": [
    "plt.hist(source_df[\"f6\"])"
   ]
  },
  {
   "cell_type": "code",
   "execution_count": 41,
   "metadata": {},
   "outputs": [
    {
     "data": {
      "text/plain": [
       "(array([  255549.,   204609.,   166644.,    99088.,    69622.,    51522.,\n",
       "           50050.,    41778.,    40566., 24330054.]),\n",
       " array([-4.72486484, -4.26904729, -3.81322974, -3.35741219, -2.90159465,\n",
       "        -2.4457771 , -1.98995955, -1.534142  , -1.07832445, -0.62250691,\n",
       "        -0.16668936]),\n",
       " <a list of 10 Patch objects>)"
      ]
     },
     "execution_count": 41,
     "metadata": {},
     "output_type": "execute_result"
    },
    {
     "data": {
      "image/png": "[encoded data removed]",
      "text/plain": [
       "<Figure size 432x288 with 1 Axes>"
      ]
     },
     "metadata": {
      "needs_background": "light"
     },
     "output_type": "display_data"
    }
   ],
   "source": [
    "plt.hist(source_df[\"f7\"])"
   ]
  },
  {
   "cell_type": "code",
   "execution_count": 42,
   "metadata": {},
   "outputs": [
    {
     "data": {
      "text/plain": [
       "(array([7.1600000e+02, 1.6453000e+04, 9.0938000e+04, 2.8551600e+05,\n",
       "        5.7849500e+05, 8.8960200e+05, 1.1967930e+06, 1.6069330e+06,\n",
       "        2.4034420e+06, 1.8240594e+07]),\n",
       " array([-33.50365454, -30.042532  , -26.58140945, -23.1202869 ,\n",
       "        -19.65916436, -16.19804181, -12.73691926,  -9.27579672,\n",
       "         -5.81467417,  -2.35355162,   1.10757092]),\n",
       " <a list of 10 Patch objects>)"
      ]
     },
     "execution_count": 42,
     "metadata": {},
     "output_type": "execute_result"
    },
    {
     "data": {
      "image/png": "[encoded data removed]",
      "text/plain": [
       "<Figure size 432x288 with 1 Axes>"
      ]
     },
     "metadata": {
      "needs_background": "light"
     },
     "output_type": "display_data"
    }
   ],
   "source": [
    "plt.hist(source_df[\"f8\"])"
   ]
  },
  {
   "cell_type": "code",
   "execution_count": 43,
   "metadata": {},
   "outputs": [
    {
     "data": {
      "text/plain": [
       "(array([2.2276719e+07, 9.9926900e+05, 7.9470100e+05, 6.0982500e+05,\n",
       "        3.9374600e+05, 1.7885000e+05, 4.9497000e+04, 6.5700000e+03,\n",
       "        3.0000000e+02, 5.0000000e+00]),\n",
       " array([ 9.85009345, 12.06394209, 14.27779073, 16.49163936, 18.705488  ,\n",
       "        20.91933664, 23.13318528, 25.34703391, 27.56088255, 29.77473119,\n",
       "        31.98857982]),\n",
       " <a list of 10 Patch objects>)"
      ]
     },
     "execution_count": 43,
     "metadata": {},
     "output_type": "execute_result"
    },
    {
     "data": {
      "image/png": "[encoded data removed]",
      "text/plain": [
       "<Figure size 432x288 with 1 Axes>"
      ]
     },
     "metadata": {
      "needs_background": "light"
     },
     "output_type": "display_data"
    }
   ],
   "source": [
    "plt.hist(source_df[\"f9\"])"
   ]
  },
  {
   "cell_type": "code",
   "execution_count": 44,
   "metadata": {},
   "outputs": [
    {
     "data": {
      "text/plain": [
       "(array([  160389.,   145272.,   111455.,    86720.,    78867.,    65712.,\n",
       "           50593.,    41061.,    35089., 24534324.]),\n",
       " array([-13.03823866, -11.92050479, -10.80277092,  -9.68503704,\n",
       "         -8.56730317,  -7.4495693 ,  -6.33183543,  -5.21410156,\n",
       "         -4.09636769,  -2.97863382,  -1.86089995]),\n",
       " <a list of 10 Patch objects>)"
      ]
     },
     "execution_count": 44,
     "metadata": {},
     "output_type": "execute_result"
    },
    {
     "data": {
      "image/png": "[encoded data removed]",
      "text/plain": [
       "<Figure size 432x288 with 1 Axes>"
      ]
     },
     "metadata": {
      "needs_background": "light"
     },
     "output_type": "display_data"
    }
   ],
   "source": [
    "plt.hist(source_df[\"f10\"])"
   ]
  },
  {
   "cell_type": "code",
   "execution_count": 45,
   "metadata": {},
   "outputs": [
    {
     "data": {
      "text/plain": [
       "(array([2.5224345e+07, 5.3345000e+04, 1.7588000e+04, 9.1930000e+03,\n",
       "        3.4690000e+03, 1.0530000e+03, 3.4000000e+02, 1.0600000e+02,\n",
       "        3.5000000e+01, 8.0000000e+00]),\n",
       " array([4.15764805, 4.2712267 , 4.38480536, 4.49838402, 4.61196268,\n",
       "        4.72554133, 4.83911999, 4.95269865, 5.06627731, 5.17985596,\n",
       "        5.29343462]),\n",
       " <a list of 10 Patch objects>)"
      ]
     },
     "execution_count": 45,
     "metadata": {},
     "output_type": "execute_result"
    },
    {
     "data": {
      "image/png": "[encoded data removed]",
      "text/plain": [
       "<Figure size 432x288 with 1 Axes>"
      ]
     },
     "metadata": {
      "needs_background": "light"
     },
     "output_type": "display_data"
    }
   ],
   "source": [
    "plt.hist(source_df[\"f11\"])"
   ]
  },
  {
   "cell_type": "code",
   "execution_count": 46,
   "metadata": {},
   "outputs": [],
   "source": [
    "cor_mat = source_df.corr()"
   ]
  },
  {
   "cell_type": "code",
   "execution_count": 47,
   "metadata": {},
   "outputs": [],
   "source": [
    "from string import ascii_letters"
   ]
  },
  {
   "cell_type": "code",
   "execution_count": 50,
   "metadata": {},
   "outputs": [
    {
     "data": {
      "text/plain": [
       "<matplotlib.axes._subplots.AxesSubplot at 0x1a30b15eb8>"
      ]
     },
     "execution_count": 50,
     "metadata": {},
     "output_type": "execute_result"
    },
    {
     "data": {
      "image/png": "[encoded data removed]",
      "text/plain": [
       "<Figure size 792x648 with 2 Axes>"
      ]
     },
     "metadata": {
      "needs_background": "light"
     },
     "output_type": "display_data"
    }
   ],
   "source": [
    "# Generate a mask for the upper triangle\n",
    "mask = np.zeros_like(cor_mat, dtype=np.bool)\n",
    "mask[np.triu_indices_from(mask)] = True\n",
    "\n",
    "# Set up the matplotlib figure\n",
    "f, ax = plt.subplots(figsize=(11, 9))\n",
    "\n",
    "# Generate a custom diverging colormap\n",
    "cmap = sns.diverging_palette(220, 10, as_cmap=True)\n",
    "\n",
    "# Draw the heatmap with the mask and correct aspect ratio\n",
    "sns.heatmap(cor_mat, mask=mask, cmap=cmap, vmax=.3, center=0,\n",
    "            square=True, linewidths=.5, cbar_kws={\"shrink\": .5})"
   ]
  },
  {
   "cell_type": "code",
   "execution_count": 51,
   "metadata": {},
   "outputs": [
    {
     "data": {
      "text/plain": [
       "f0            float64\n",
       "f1            float64\n",
       "f2            float64\n",
       "f3            float64\n",
       "f4            float64\n",
       "f5            float64\n",
       "f6            float64\n",
       "f7            float64\n",
       "f8            float64\n",
       "f9            float64\n",
       "f10           float64\n",
       "f11           float64\n",
       "treatment       int64\n",
       "conversion      int64\n",
       "visit           int64\n",
       "exposure        int64\n",
       "dtype: object"
      ]
     },
     "execution_count": 51,
     "metadata": {},
     "output_type": "execute_result"
    }
   ],
   "source": [
    "source_df.dtypes"
   ]
  },
  {
   "cell_type": "code",
   "execution_count": null,
   "metadata": {},
   "outputs": [],
   "source": []
  },
  {
   "cell_type": "code",
   "execution_count": null,
   "metadata": {},
   "outputs": [],
   "source": []
  },
  {
   "cell_type": "code",
   "execution_count": null,
   "metadata": {},
   "outputs": [],
   "source": []
  },
  {
   "cell_type": "code",
   "execution_count": 3,
   "metadata": {},
   "outputs": [],
   "source": [
    "feature_vector_df = source_df.drop([\"treatment\",\"conversion\",\"visit\",\"exposure\"],axis=1)"
   ]
  },
  {
   "cell_type": "code",
   "execution_count": 5,
   "metadata": {},
   "outputs": [
    {
     "data": {
      "text/html": [
       "<div>\n",
       "<style scoped>\n",
       "    .dataframe tbody tr th:only-of-type {\n",
       "        vertical-align: middle;\n",
       "    }\n",
       "\n",
       "    .dataframe tbody tr th {\n",
       "        vertical-align: top;\n",
       "    }\n",
       "\n",
       "    .dataframe thead th {\n",
       "        text-align: right;\n",
       "    }\n",
       "</style>\n",
       "<table border=\"1\" class=\"dataframe\">\n",
       "  <thead>\n",
       "    <tr style=\"text-align: right;\">\n",
       "      <th></th>\n",
       "      <th>f0</th>\n",
       "      <th>f1</th>\n",
       "      <th>f2</th>\n",
       "      <th>f3</th>\n",
       "      <th>f4</th>\n",
       "      <th>f5</th>\n",
       "      <th>f6</th>\n",
       "      <th>f7</th>\n",
       "      <th>f8</th>\n",
       "      <th>f9</th>\n",
       "      <th>f10</th>\n",
       "      <th>f11</th>\n",
       "    </tr>\n",
       "  </thead>\n",
       "  <tbody>\n",
       "    <tr>\n",
       "      <th>0</th>\n",
       "      <td>1.991981</td>\n",
       "      <td>3.263641</td>\n",
       "      <td>9.241052</td>\n",
       "      <td>3.735871</td>\n",
       "      <td>3.506733</td>\n",
       "      <td>10.161281</td>\n",
       "      <td>2.981721</td>\n",
       "      <td>-0.166689</td>\n",
       "      <td>-0.584392</td>\n",
       "      <td>9.850093</td>\n",
       "      <td>-1.8609</td>\n",
       "      <td>4.157648</td>\n",
       "    </tr>\n",
       "    <tr>\n",
       "      <th>1</th>\n",
       "      <td>1.991981</td>\n",
       "      <td>3.263641</td>\n",
       "      <td>9.274430</td>\n",
       "      <td>3.735871</td>\n",
       "      <td>3.506733</td>\n",
       "      <td>10.161281</td>\n",
       "      <td>2.981721</td>\n",
       "      <td>-0.166689</td>\n",
       "      <td>-0.584392</td>\n",
       "      <td>9.850093</td>\n",
       "      <td>-1.8609</td>\n",
       "      <td>4.157648</td>\n",
       "    </tr>\n",
       "    <tr>\n",
       "      <th>2</th>\n",
       "      <td>1.991981</td>\n",
       "      <td>3.263641</td>\n",
       "      <td>9.226241</td>\n",
       "      <td>3.735871</td>\n",
       "      <td>3.506733</td>\n",
       "      <td>10.161281</td>\n",
       "      <td>2.981721</td>\n",
       "      <td>-0.166689</td>\n",
       "      <td>-0.584392</td>\n",
       "      <td>9.850093</td>\n",
       "      <td>-1.8609</td>\n",
       "      <td>4.157648</td>\n",
       "    </tr>\n",
       "    <tr>\n",
       "      <th>3</th>\n",
       "      <td>1.991981</td>\n",
       "      <td>3.263641</td>\n",
       "      <td>9.274572</td>\n",
       "      <td>3.735871</td>\n",
       "      <td>3.506733</td>\n",
       "      <td>10.161281</td>\n",
       "      <td>2.981721</td>\n",
       "      <td>-0.166689</td>\n",
       "      <td>-0.584392</td>\n",
       "      <td>9.850093</td>\n",
       "      <td>-1.8609</td>\n",
       "      <td>4.157648</td>\n",
       "    </tr>\n",
       "    <tr>\n",
       "      <th>4</th>\n",
       "      <td>1.991981</td>\n",
       "      <td>3.263641</td>\n",
       "      <td>9.332619</td>\n",
       "      <td>3.735871</td>\n",
       "      <td>3.506733</td>\n",
       "      <td>10.161281</td>\n",
       "      <td>2.981721</td>\n",
       "      <td>-0.166689</td>\n",
       "      <td>-0.584392</td>\n",
       "      <td>9.850093</td>\n",
       "      <td>-1.8609</td>\n",
       "      <td>4.157648</td>\n",
       "    </tr>\n",
       "    <tr>\n",
       "      <th>5</th>\n",
       "      <td>1.991981</td>\n",
       "      <td>3.263641</td>\n",
       "      <td>9.319308</td>\n",
       "      <td>3.735871</td>\n",
       "      <td>3.506733</td>\n",
       "      <td>10.161281</td>\n",
       "      <td>2.981721</td>\n",
       "      <td>-0.166689</td>\n",
       "      <td>-0.584392</td>\n",
       "      <td>9.850093</td>\n",
       "      <td>-1.8609</td>\n",
       "      <td>4.157648</td>\n",
       "    </tr>\n",
       "    <tr>\n",
       "      <th>6</th>\n",
       "      <td>1.991981</td>\n",
       "      <td>3.263641</td>\n",
       "      <td>9.274632</td>\n",
       "      <td>3.735871</td>\n",
       "      <td>3.506733</td>\n",
       "      <td>10.161281</td>\n",
       "      <td>2.981721</td>\n",
       "      <td>-0.166689</td>\n",
       "      <td>-0.584392</td>\n",
       "      <td>9.850093</td>\n",
       "      <td>-1.8609</td>\n",
       "      <td>4.157648</td>\n",
       "    </tr>\n",
       "    <tr>\n",
       "      <th>7</th>\n",
       "      <td>1.991981</td>\n",
       "      <td>3.263641</td>\n",
       "      <td>9.149639</td>\n",
       "      <td>3.735871</td>\n",
       "      <td>3.506733</td>\n",
       "      <td>10.161281</td>\n",
       "      <td>2.981721</td>\n",
       "      <td>-0.166689</td>\n",
       "      <td>-0.584392</td>\n",
       "      <td>9.850093</td>\n",
       "      <td>-1.8609</td>\n",
       "      <td>4.157648</td>\n",
       "    </tr>\n",
       "    <tr>\n",
       "      <th>8</th>\n",
       "      <td>1.991981</td>\n",
       "      <td>3.263641</td>\n",
       "      <td>9.226277</td>\n",
       "      <td>3.735871</td>\n",
       "      <td>3.506733</td>\n",
       "      <td>10.161281</td>\n",
       "      <td>2.981721</td>\n",
       "      <td>-0.166689</td>\n",
       "      <td>-0.584392</td>\n",
       "      <td>9.850093</td>\n",
       "      <td>-1.8609</td>\n",
       "      <td>4.157648</td>\n",
       "    </tr>\n",
       "    <tr>\n",
       "      <th>9</th>\n",
       "      <td>1.991981</td>\n",
       "      <td>3.263641</td>\n",
       "      <td>8.995635</td>\n",
       "      <td>3.735871</td>\n",
       "      <td>3.506733</td>\n",
       "      <td>10.161281</td>\n",
       "      <td>2.981721</td>\n",
       "      <td>-0.166689</td>\n",
       "      <td>-0.584392</td>\n",
       "      <td>9.850093</td>\n",
       "      <td>-1.8609</td>\n",
       "      <td>4.157648</td>\n",
       "    </tr>\n",
       "  </tbody>\n",
       "</table>\n",
       "</div>"
      ],
      "text/plain": [
       "         f0        f1        f2        f3        f4         f5        f6  \\\n",
       "0  1.991981  3.263641  9.241052  3.735871  3.506733  10.161281  2.981721   \n",
       "1  1.991981  3.263641  9.274430  3.735871  3.506733  10.161281  2.981721   \n",
       "2  1.991981  3.263641  9.226241  3.735871  3.506733  10.161281  2.981721   \n",
       "3  1.991981  3.263641  9.274572  3.735871  3.506733  10.161281  2.981721   \n",
       "4  1.991981  3.263641  9.332619  3.735871  3.506733  10.161281  2.981721   \n",
       "5  1.991981  3.263641  9.319308  3.735871  3.506733  10.161281  2.981721   \n",
       "6  1.991981  3.263641  9.274632  3.735871  3.506733  10.161281  2.981721   \n",
       "7  1.991981  3.263641  9.149639  3.735871  3.506733  10.161281  2.981721   \n",
       "8  1.991981  3.263641  9.226277  3.735871  3.506733  10.161281  2.981721   \n",
       "9  1.991981  3.263641  8.995635  3.735871  3.506733  10.161281  2.981721   \n",
       "\n",
       "         f7        f8        f9     f10       f11  \n",
       "0 -0.166689 -0.584392  9.850093 -1.8609  4.157648  \n",
       "1 -0.166689 -0.584392  9.850093 -1.8609  4.157648  \n",
       "2 -0.166689 -0.584392  9.850093 -1.8609  4.157648  \n",
       "3 -0.166689 -0.584392  9.850093 -1.8609  4.157648  \n",
       "4 -0.166689 -0.584392  9.850093 -1.8609  4.157648  \n",
       "5 -0.166689 -0.584392  9.850093 -1.8609  4.157648  \n",
       "6 -0.166689 -0.584392  9.850093 -1.8609  4.157648  \n",
       "7 -0.166689 -0.584392  9.850093 -1.8609  4.157648  \n",
       "8 -0.166689 -0.584392  9.850093 -1.8609  4.157648  \n",
       "9 -0.166689 -0.584392  9.850093 -1.8609  4.157648  "
      ]
     },
     "execution_count": 5,
     "metadata": {},
     "output_type": "execute_result"
    }
   ],
   "source": [
    "feature_vector_df.head(10)"
   ]
  },
  {
   "cell_type": "code",
   "execution_count": 37,
   "metadata": {},
   "outputs": [],
   "source": [
    "is_treat_list = list(source_df[\"treatment\"] == 1)\n",
    "is_cv_list = list(source_df[\"conversion\"] == 1)"
   ]
  },
  {
   "cell_type": "code",
   "execution_count": 38,
   "metadata": {},
   "outputs": [],
   "source": [
    "train_is_cv_list, test_is_cv_list, train_is_treat_list, \\\n",
    "        test_is_treat_list, train_feature_vector_df,\\\n",
    "        test_feature_vector_df = train_test_split(is_cv_list, is_treat_list,\n",
    "                                                                                feature_vector_df,\n",
    "                                                                                train_size=0.5,\n",
    "                                                                                test_size=0.5,\n",
    "                                                                                random_state=42)"
   ]
  },
  {
   "cell_type": "code",
   "execution_count": 39,
   "metadata": {},
   "outputs": [],
   "source": [
    "treat_model = LogisticRegression(C=0.01)\n",
    "control_model = LogisticRegression(C=0.01)\n",
    "\n",
    "train_sample_num = len(train_is_cv_list)\n",
    "\n",
    "treat_is_cv_list = [train_is_cv_list[i] for i in range(train_sample_num) if train_is_treat_list[i] == True]\n",
    "treat_feature_vector_list = train_feature_vector_df[train_is_treat_list]\n",
    "\n",
    "control_is_cv_list = [train_is_cv_list[i] for i in range(train_sample_num) if train_is_treat_list[i] == False]\n",
    "control_feature_vector_list = train_feature_vector_df[list(map(lambda a:a == False ,train_is_treat_list))]"
   ]
  },
  {
   "cell_type": "code",
   "execution_count": 43,
   "metadata": {},
   "outputs": [
    {
     "name": "stderr",
     "output_type": "stream",
     "text": [
      "/Users/Sakaue/anaconda/lib/python3.5/site-packages/sklearn/linear_model/logistic.py:432: FutureWarning: Default solver will be changed to 'lbfgs' in 0.22. Specify a solver to silence this warning.\n",
      "  FutureWarning)\n",
      "/Users/Sakaue/anaconda/lib/python3.5/site-packages/sklearn/linear_model/logistic.py:432: FutureWarning: Default solver will be changed to 'lbfgs' in 0.22. Specify a solver to silence this warning.\n",
      "  FutureWarning)\n"
     ]
    },
    {
     "data": {
      "text/plain": [
       "LogisticRegression(C=0.01, class_weight=None, dual=False, fit_intercept=True,\n",
       "          intercept_scaling=1, max_iter=100, multi_class='warn',\n",
       "          n_jobs=None, penalty='l2', random_state=None, solver='warn',\n",
       "          tol=0.0001, verbose=0, warm_start=False)"
      ]
     },
     "execution_count": 43,
     "metadata": {},
     "output_type": "execute_result"
    }
   ],
   "source": [
    "treat_model.fit(treat_feature_vector_list, treat_is_cv_list)\n",
    "control_model.fit(control_feature_vector_list, control_is_cv_list)"
   ]
  },
  {
   "cell_type": "code",
   "execution_count": 44,
   "metadata": {},
   "outputs": [],
   "source": [
    "treat_score = treat_model.predict_proba(test_feature_vector_df)\n",
    "control_score = control_model.predict_proba(test_feature_vector_df)\n",
    "score_list = treat_score[:,1] / control_score[:,1]\n",
    "\n",
    "result = list(zip(test_is_cv_list, test_is_treat_list, score_list))\n",
    "result.sort(key=itemgetter(2),reverse=True)\n",
    "    \n",
    "\n",
    "treat_uu = 0\n",
    "control_uu = 0\n",
    "treat_cv = 0\n",
    "control_cv = 0\n",
    "treat_cvr = 0.0\n",
    "control_cvr = 0.0\n",
    "lift = 0.0\n",
    "\n",
    "stat_data = []\n",
    "\n",
    "for is_cv, is_treat, score in result:\n",
    "    if is_treat:\n",
    "        treat_uu += 1\n",
    "        if is_cv:\n",
    "            treat_cv += 1\n",
    "        treat_cvr = treat_cv / treat_uu\n",
    "    else:\n",
    "        control_uu += 1\n",
    "        if is_cv:\n",
    "            control_cv += 1\n",
    "        control_cvr = control_cv / control_uu\n",
    "\n",
    "    # コンバージョンレートの差に実験群の人数を掛けることでliftを算出\n",
    "    lift = (treat_cvr - control_cvr) * treat_uu\n",
    "\n",
    "    stat_data.append([is_cv, is_treat, score, treat_uu, control_uu, treat_cv, control_cv, treat_cvr, control_cvr, lift])"
   ]
  },
  {
   "cell_type": "code",
   "execution_count": 46,
   "metadata": {},
   "outputs": [
    {
     "data": {
      "text/plain": [
       "Text(0, 0.5, 'conversion rate')"
      ]
     },
     "execution_count": 46,
     "metadata": {},
     "output_type": "execute_result"
    },
    {
     "data": {
      "image/png": "[encoded data removed]",
      "text/plain": [
       "<Figure size 432x288 with 1 Axes>"
      ]
     },
     "metadata": {
      "needs_background": "light"
     },
     "output_type": "display_data"
    }
   ],
   "source": [
    "qdf = pd.DataFrame(columns=('treat_cvr', 'control_cvr'))\n",
    "\n",
    "quantile_data = []\n",
    "for n in range(10):\n",
    "    start = int(n * len(result) / 10)\n",
    "    end = int((n + 1) * len(result) / 10) - 1\n",
    "    quantiled_result = result[start:end]\n",
    "    \n",
    "    treat_uu = list(map(lambda item:item[1], quantiled_result)).count(True)\n",
    "    control_uu = list(map(lambda item:item[1], quantiled_result)).count(False)\n",
    "    \n",
    "    treat_cv = [item[0] for item in quantiled_result if item[1] == True].count(True)\n",
    "    control_cv = [item[0] for item in quantiled_result if item[1] == False].count(True)\n",
    "    \n",
    "    treat_cvr = treat_cv / treat_uu\n",
    "    control_cvr = control_cv / control_uu\n",
    "    \n",
    "    \n",
    "    quantile_data.append([treat_uu, control_uu, treat_cv, control_cv, treat_cvr, control_cvr])\n",
    "        \n",
    "    label = \"{}%~{}%\".format(n*10, (n+1)*10)\n",
    "    qdf.loc[label] = [treat_cvr, control_cvr]\n",
    "\n",
    "qdf.plot.bar()\n",
    "plt.xlabel(\"percentile\")\n",
    "plt.ylabel(\"conversion rate\")"
   ]
  },
  {
   "cell_type": "code",
   "execution_count": 47,
   "metadata": {},
   "outputs": [
    {
     "data": {
      "text/plain": [
       "<matplotlib.axes._subplots.AxesSubplot at 0x1dc0a57438>"
      ]
     },
     "execution_count": 47,
     "metadata": {},
     "output_type": "execute_result"
    },
    {
     "data": {
      "image/png": "[encoded data removed]",
      "text/plain": [
       "<Figure size 432x288 with 1 Axes>"
      ]
     },
     "metadata": {
      "needs_background": "light"
     },
     "output_type": "display_data"
    },
    {
     "data": {
      "image/png": "[encoded data removed]",
      "text/plain": [
       "<Figure size 432x288 with 1 Axes>"
      ]
     },
     "metadata": {
      "needs_background": "light"
     },
     "output_type": "display_data"
    },
    {
     "data": {
      "image/png": "[encoded data removed]",
      "text/plain": [
       "<Figure size 432x288 with 1 Axes>"
      ]
     },
     "metadata": {
      "needs_background": "light"
     },
     "output_type": "display_data"
    },
    {
     "data": {
      "image/png": "[encoded data removed]",
      "text/plain": [
       "<Figure size 432x288 with 1 Axes>"
      ]
     },
     "metadata": {
      "needs_background": "light"
     },
     "output_type": "display_data"
    },
    {
     "data": {
      "image/png": "[encoded data removed]",
      "text/plain": [
       "<Figure size 432x288 with 1 Axes>"
      ]
     },
     "metadata": {
      "needs_background": "light"
     },
     "output_type": "display_data"
    },
    {
     "data": {
      "image/png": "[encoded data removed]",
      "text/plain": [
       "<Figure size 432x288 with 1 Axes>"
      ]
     },
     "metadata": {
      "needs_background": "light"
     },
     "output_type": "display_data"
    }
   ],
   "source": [
    "df = pd.DataFrame(stat_data)\n",
    "df.columns = [\"is_cv\", \"is_treat\", \"score\", \"treat_uu\", \"control_uu\", \"treat_cv\", \"control_cv\", \"treat_cvr\", \"control_cvr\", \"lift\"]\n",
    "\n",
    "\n",
    "# ベースラインを書き加える\n",
    "df[\"base_line\"] = df.index * df[\"lift\"][len(df.index) - 1] / len(df.index)\n",
    "\n",
    "df.plot(y=[\"treat_cv\", \"control_cv\"])\n",
    "plt.xlabel(\"uplift score rank\")\n",
    "plt.ylabel(\"conversion count\")\n",
    "\n",
    "df.plot(y=[\"treat_cvr\", \"control_cvr\"], ylim=[0, 0.04])\n",
    "plt.xlabel(\"uplift score rank\")\n",
    "plt.ylabel(\"conversion rate\")\n",
    "\n",
    "df.plot(y=[\"lift\", \"base_line\"])\n",
    "plt.xlabel(\"uplift score rank\")\n",
    "plt.ylabel(\"lift count\")\n",
    "\n",
    "df.plot(y=[\"treat_cv\", \"control_cv\"], x=\"score\", title=\"conversion count\")\n",
    "df.plot(y=[\"treat_cvr\", \"control_cvr\"], ylim=[0, 0.04], x=\"score\", title=\"conversion rate\")\n",
    "df.plot(y=[\"lift\", \"base_line\"], x=\"score\", title=\"lift\")"
   ]
  },
  {
   "cell_type": "code",
   "execution_count": 48,
   "metadata": {},
   "outputs": [
    {
     "name": "stdout",
     "output_type": "stream",
     "text": [
      "AUUC: 1764.7708083957439\n"
     ]
    }
   ],
   "source": [
    "auuc = (df[\"lift\"] - df[\"base_line\"]).sum() / len(df[\"lift\"])\n",
    "print(\"AUUC:\", auuc)"
   ]
  },
  {
   "cell_type": "code",
   "execution_count": 51,
   "metadata": {},
   "outputs": [
    {
     "data": {
      "text/plain": [
       "Text(0, 0.5, 'conversion rate')"
      ]
     },
     "execution_count": 51,
     "metadata": {},
     "output_type": "execute_result"
    },
    {
     "data": {
      "image/png": "[encoded data removed]",
      "text/plain": [
       "<Figure size 432x288 with 1 Axes>"
      ]
     },
     "metadata": {
      "needs_background": "light"
     },
     "output_type": "display_data"
    }
   ],
   "source": [
    "df.plot(y=[\"treat_cvr\", \"control_cvr\"], ylim=[0, 0.04])\n",
    "plt.xlabel(\"uplift score rank\")\n",
    "plt.ylabel(\"conversion rate\")"
   ]
  },
  {
   "cell_type": "code",
   "execution_count": 52,
   "metadata": {},
   "outputs": [
    {
     "data": {
      "text/plain": [
       "<matplotlib.axes._subplots.AxesSubplot at 0x1dc0eeba58>"
      ]
     },
     "execution_count": 52,
     "metadata": {},
     "output_type": "execute_result"
    },
    {
     "data": {
      "image/png": "[encoded data removed]",
      "text/plain": [
       "<Figure size 432x288 with 1 Axes>"
      ]
     },
     "metadata": {
      "needs_background": "light"
     },
     "output_type": "display_data"
    }
   ],
   "source": [
    "df.plot(y=[\"treat_cvr\", \"control_cvr\"], ylim=[0, 0.04], x=\"score\", title=\"conversion rate\")"
   ]
  },
  {
   "cell_type": "code",
   "execution_count": null,
   "metadata": {},
   "outputs": [],
   "source": []
  }
 ],
 "metadata": {
  "kernelspec": {
   "display_name": "Python [conda root]",
   "language": "python",
   "name": "conda-root-py"
  },
  "language_info": {
   "codemirror_mode": {
    "name": "ipython",
    "version": 3
   },
   "file_extension": ".py",
   "mimetype": "text/x-python",
   "name": "python",
   "nbconvert_exporter": "python",
   "pygments_lexer": "ipython3",
   "version": "3.5.6"
  },
  "toc": {
   "base_numbering": 1,
   "nav_menu": {},
   "number_sections": true,
   "sideBar": true,
   "skip_h1_title": false,
   "title_cell": "Table of Contents",
   "title_sidebar": "Contents",
   "toc_cell": false,
   "toc_position": {},
   "toc_section_display": true,
   "toc_window_display": true
  }
 },
 "nbformat": 4,
 "nbformat_minor": 2
}
